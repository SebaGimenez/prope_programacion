{
  "nbformat": 4,
  "nbformat_minor": 0,
  "metadata": {
    "colab": {
      "name": "Factorial&Sumadeseries+Gimenez.ipynb",
      "provenance": [],
      "collapsed_sections": [],
      "authorship_tag": "ABX9TyOfIM9O4I4G7xEDfMNm6k6q",
      "include_colab_link": true
    },
    "kernelspec": {
      "name": "python3",
      "display_name": "Python 3"
    },
    "language_info": {
      "name": "python"
    }
  },
  "cells": [
    {
      "cell_type": "markdown",
      "metadata": {
        "id": "view-in-github",
        "colab_type": "text"
      },
      "source": [
        "<a href=\"https://colab.research.google.com/github/SebaGimenez/prope_programacion/blob/main/Factorial%26Sumadeseries%2BGimenez.ipynb\" target=\"_parent\"><img src=\"https://colab.research.google.com/assets/colab-badge.svg\" alt=\"Open In Colab\"/></a>"
      ]
    },
    {
      "cell_type": "markdown",
      "source": [
        "Escribir una función para calcular el factorial de un número cualquiera."
      ],
      "metadata": {
        "id": "NRpHJMAJ-Z5a"
      }
    },
    {
      "cell_type": "code",
      "execution_count": 6,
      "metadata": {
        "colab": {
          "base_uri": "https://localhost:8080/"
        },
        "id": "fGjyQQVg932-",
        "outputId": "904d306a-f9aa-4d8d-d2d6-b9cc52f2fc81"
      },
      "outputs": [
        {
          "output_type": "stream",
          "name": "stdout",
          "text": [
            "El factorial de 5 es: 120\n"
          ]
        }
      ],
      "source": [
        "Numero= 5         #Escribir el número del cual se busca el factorial\n",
        "Calculo= 1\n",
        "for i in range (1,Numero+1):\n",
        "                          Calculo*=i\n",
        "\n",
        "print(f'El factorial de {Numero} es: {Calculo}')"
      ]
    },
    {
      "cell_type": "markdown",
      "source": [
        "Escribir una función para calcular la suma de una serie comenzando por un número cualquiera y terminando en otro número que debe ser mayor al primero."
      ],
      "metadata": {
        "id": "TOoT9yh6CuXy"
      }
    },
    {
      "cell_type": "code",
      "source": [
        "NumeroInicial=10    #Escribir el primer numero de la serie\n",
        "Numerofinal=50      #Escribir el ultimo numero de la serie\n",
        "calcular= 0\n",
        "if  Numerofinal>NumeroInicial:\n",
        "  for i in range (NumeroInicial,Numerofinal+1):\n",
        "                      calcular +=i\n",
        "  print(f'La suma de la serie de los numeros comprendidos entre',NumeroInicial,'y',Numerofinal,'es',calcular)\n",
        "else:\n",
        "  print('El numero final deve ser mayor que el número inicial')\n",
        "\n"
      ],
      "metadata": {
        "colab": {
          "base_uri": "https://localhost:8080/"
        },
        "id": "a3MgPC3QCzFC",
        "outputId": "b3d54d1f-657a-4f41-a253-69ffaaa19a6a"
      },
      "execution_count": 4,
      "outputs": [
        {
          "output_type": "stream",
          "name": "stdout",
          "text": [
            "La suma de la serie de los numeros comprendidos entre 10 y 50 es 1230\n"
          ]
        }
      ]
    }
  ]
}