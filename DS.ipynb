{
  "nbformat": 4,
  "nbformat_minor": 0,
  "metadata": {
    "colab": {
      "name": "DS.ipynb",
      "provenance": [],
      "collapsed_sections": [],
      "include_colab_link": true
    },
    "kernelspec": {
      "display_name": "Python 3",
      "name": "python3"
    }
  },
  "cells": [
    {
      "cell_type": "markdown",
      "metadata": {
        "id": "view-in-github",
        "colab_type": "text"
      },
      "source": [
        "<a href=\"https://colab.research.google.com/github/SebaGimenez/prope_programacion/blob/main/DS.ipynb\" target=\"_parent\"><img src=\"https://colab.research.google.com/assets/colab-badge.svg\" alt=\"Open In Colab\"/></a>"
      ]
    },
    {
      "cell_type": "code",
      "source": [
        "for num in range(0,10):\n",
        "  print('valor de num ', num)  "
      ],
      "metadata": {
        "colab": {
          "base_uri": "https://localhost:8080/"
        },
        "id": "ZqUB2HRTutJp",
        "outputId": "19c0b58f-f8a4-482f-8d75-f24ed23c419c"
      },
      "execution_count": null,
      "outputs": [
        {
          "output_type": "stream",
          "name": "stdout",
          "text": [
            "valor de num  0\n",
            "valor de num  1\n",
            "valor de num  2\n",
            "valor de num  3\n",
            "valor de num  4\n",
            "valor de num  5\n",
            "valor de num  6\n",
            "valor de num  7\n",
            "valor de num  8\n",
            "valor de num  9\n"
          ]
        }
      ]
    },
    {
      "cell_type": "code",
      "source": [
        "for num in ['manzana',' pera']:\n",
        "  print('valor de num ', num)  "
      ],
      "metadata": {
        "colab": {
          "base_uri": "https://localhost:8080/"
        },
        "id": "PWGG1aY0u1cn",
        "outputId": "9f1f7942-ea12-4b0d-c58c-3493bf130834"
      },
      "execution_count": null,
      "outputs": [
        {
          "output_type": "stream",
          "name": "stdout",
          "text": [
            "valor de num  manzana\n",
            "valor de num   pera\n"
          ]
        }
      ]
    },
    {
      "cell_type": "code",
      "source": [
        "i = 1\n",
        "while i < 10:\n",
        "  print(i)\n",
        "  i = i +1\n",
        "\n",
        "print('termine')"
      ],
      "metadata": {
        "colab": {
          "base_uri": "https://localhost:8080/"
        },
        "id": "vOwkwJH_wgAN",
        "outputId": "7fa6e413-c8b9-4829-e584-0cb74880f130"
      },
      "execution_count": 2,
      "outputs": [
        {
          "output_type": "stream",
          "name": "stdout",
          "text": [
            "1\n",
            "2\n",
            "3\n",
            "4\n",
            "5\n",
            "6\n",
            "7\n",
            "8\n",
            "9\n",
            "termine\n"
          ]
        }
      ]
    }
  ]
}